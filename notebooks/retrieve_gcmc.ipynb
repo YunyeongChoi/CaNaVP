{
 "cells": [
  {
   "cell_type": "code",
   "execution_count": 28,
   "metadata": {},
   "outputs": [],
   "source": [
    "import time\n",
    "import json\n",
    "import random\n",
    "import numpy as np\n",
    "from glob import glob\n",
    "import matplotlib as mpl\n",
    "from copy import deepcopy\n",
    "from smol.io import load_work\n",
    "from smol.moca import Sampler\n",
    "from smol.moca import Ensemble\n",
    "from smol.cofe.space import Vacancy\n",
    "from smol.moca.sampler.mcusher import Tableflip\n",
    "from pymatgen.core.sites import Species\n",
    "from pymatgen.core.structure import Structure\n",
    "from pymatgen.transformations.standard_transformations \\\n",
    "import (OxidationStateDecorationTransformation, \\\n",
    "        OrderDisorderedStructureTransformation)\n",
    "from monty.serialization import dumpfn, loadfn\n",
    "from smol.moca.sampler.container import SampleContainer\n",
    "from matplotlib import pyplot as plt"
   ]
  },
  {
   "cell_type": "markdown",
   "metadata": {},
   "source": [
    "## 0. Functions"
   ]
  },
  {
   "cell_type": "code",
   "execution_count": 29,
   "metadata": {},
   "outputs": [],
   "source": [
    "# For sanity check\n",
    "\n",
    "def get_dim_ids_by_sublattice(bits):\n",
    "    \"\"\"Get the component index of each species in vector n.\n",
    "\n",
    "    Args:\n",
    "        bits(List[List[Specie|Vacancy|Element]]):\n",
    "           Species on each sub-lattice.\n",
    "    Returns:\n",
    "        Component index of each species on each sublattice in vector n:\n",
    "           List[List[int]]\n",
    "    \"\"\"\n",
    "    dim_ids = []\n",
    "    dim_id = 0\n",
    "    for species in bits:\n",
    "        dim_ids.append(list(range(dim_id, dim_id + len(species))))\n",
    "        dim_id += len(species)\n",
    "    return dim_ids\n",
    "\n",
    "\n",
    "def flip_vec_to_reaction(u, bits):\n",
    "    \"\"\"Convert flip direction into a reaction formula in string.\n",
    "\n",
    "    This function is for easy interpretation of flip directions.\n",
    "    Args:\n",
    "        u(1D ArrayLike[int]):\n",
    "            The flip vector in number change of species.\n",
    "        bits(List[List[Specie|DummySpecie|Element|Vacancy]]):\n",
    "            Species on all sub-lattices.\n",
    "    Return:\n",
    "        Reaction formulas: str.\n",
    "    \"\"\"\n",
    "    u = np.array(u, dtype=int)\n",
    "    dim_ids = get_dim_ids_by_sublattice(bits)\n",
    "\n",
    "    from_strs = []\n",
    "    to_strs = []\n",
    "\n",
    "    for sl_id, (sl_species, sl_dims) in enumerate(zip(bits, dim_ids)):\n",
    "        for specie, dim in zip(sl_species, sl_dims):\n",
    "            if u[dim] < 0:\n",
    "                from_strs.append('{} {}({})'\n",
    "                                 .format(-u[dim], str(specie), sl_id))\n",
    "            elif u[dim] > 0:\n",
    "                to_strs.append('{} {}({})'\n",
    "                               .format(u[dim], str(specie), sl_id))\n",
    "\n",
    "    from_str = ' + '.join(from_strs)\n",
    "    to_str = ' + '.join(to_strs)\n",
    "    return from_str + ' -> ' + to_str\n",
    "\n",
    "\n",
    "def set_rc_params():\n",
    "    \"\"\"\n",
    "    General params for plot.\n",
    "    \"\"\"\n",
    "    params = {'axes.linewidth': 1.5,\n",
    "              'axes.unicode_minus': False,\n",
    "              'figure.dpi': 300,\n",
    "              'font.size': 25,\n",
    "              'legend.frameon': False,\n",
    "              'legend.handletextpad': 0.4,\n",
    "              'legend.handlelength': 1,\n",
    "              'legend.fontsize': 10,\n",
    "              'lines.markeredgewidth': 4,\n",
    "              'lines.linewidth': 3,\n",
    "              'lines.markersize': 15,\n",
    "              'mathtext.default': 'regular',\n",
    "              'savefig.bbox': 'tight',\n",
    "              'xtick.labelsize': 20,\n",
    "              'ytick.labelsize': 20,\n",
    "              'xtick.major.size': 5,\n",
    "              'xtick.minor.size': 3,\n",
    "              'ytick.major.size': 5,\n",
    "              'ytick.minor.size': 3,\n",
    "              'xtick.major.width': 1,\n",
    "              'xtick.minor.width': 0.5,\n",
    "              'ytick.major.width': 1,\n",
    "              'ytick.minor.width': 0.5,\n",
    "              'xtick.top': True,\n",
    "              'ytick.right': True,\n",
    "              'axes.edgecolor': 'black',\n",
    "              'legend.fancybox': True,\n",
    "              'figure.figsize': [8, 6]}\n",
    "    for p in params:\n",
    "        mpl.rcParams[p] = params[p]"
   ]
  },
  {
   "cell_type": "code",
   "execution_count": 27,
   "metadata": {},
   "outputs": [],
   "source": [
    "# Trajectory retriever\n",
    "# Finished functions\n",
    "\n",
    "def read_json(fjson):\n",
    "    with open(fjson) as f:\n",
    "        return json.load(f)\n",
    "\n",
    "\n",
    "def write_json(d, fjson):\n",
    "    with open(fjson, 'w') as f:\n",
    "        json.dump(d, f)\n",
    "    return d\n",
    "\n",
    "\n",
    "def get_data_from_hdf5(saved_path):\n",
    "    \n",
    "    return\n",
    "\n",
    "\n",
    "def get_data_from_nps(saved_path):\n",
    "    \n",
    "    return\n",
    "\n",
    "\n",
    "def get_discard_length():\n",
    "    \n",
    "    # Need low temperature run data to test\n",
    "    \n",
    "    return\n",
    "\n",
    "\n",
    "def get_sampling_efficiency(energies, discard_length, sampling_length):\n",
    "    \"\"\"\n",
    "    Args:\n",
    "        energies: NumPy array. Sampled energy.\n",
    "        discard_length: Int. Equilibrium length of the sample.\n",
    "        sampling_length: Int. Sampling length to get sampling efficiency.\n",
    "    Returns:\n",
    "        tot_var: total variance of the entire sample.\n",
    "        block_var: block variance.\n",
    "        sampling_efficiency: Idealy 1.\n",
    "    \"\"\"\n",
    "    blocks = []\n",
    "    block_means = []\n",
    "    start_position = discard_length\n",
    "    tot_var = np.var(energies[discard_length:])\n",
    "\n",
    "    while start_position + sampling_length < len(energies):\n",
    "        blocks.append(energies[start_position : start_position + sampling_length])\n",
    "        start_position += sampling_length\n",
    "\n",
    "    for i in blocks:\n",
    "        block_means.append(i.mean())\n",
    "    block_var = np.var(block_means)\n",
    "    sampling_efficiency = tot_var / sampling_length / block_var\n",
    "    \n",
    "    return tot_var, block_var, sampling_efficiency\n",
    "\n",
    "\n",
    "def get_thin_trajectory(species_count, discard_length, thin_by):\n",
    "    \"\"\"\n",
    "    Args:\n",
    "        species_count: Dict. of counted number of species\n",
    "        discard_length: Int. Equilibrium length of the sample.\n",
    "        thin_by: Int. Thin by number.\n",
    "    Returns:\n",
    "        thin_trajectory: List of tuple (Ca2+, Na+). Thinned tracjectory\n",
    "        average: Average value of ensemble.\n",
    "    \"\"\"\n",
    "    # Assume that sampled from 5x5x6 size ensemble\n",
    "    thin_trajectory = []\n",
    "    discarded_na = species_count['Na+'][discard_length:]\n",
    "    discarded_ca = species_count['Ca2+'][discard_length:]\n",
    "    ca_total = 0\n",
    "    na_total = 0\n",
    "    count = 0\n",
    "    for i, j in enumerate(discarded_na):\n",
    "        if i % thin_by == 0:\n",
    "            thin_trajectory.append((discarded_ca[i]/300, j/300))\n",
    "        count += 1\n",
    "        ca_total += discarded_ca[i]/300\n",
    "        na_total += j/300\n",
    "    ca_average = ca_total / count\n",
    "    na_average = na_total / count\n",
    "    \n",
    "    return thin_trajectory, (ca_average, na_average)\n",
    "\n",
    "\n",
    "def get_all_trajectories(saved_dir, discard_length, thin_by):\n",
    "    \n",
    "    traj_data = {}\n",
    "    species_count_list = []\n",
    "    saved_list = glob(saved_dir + \"/*\")\n",
    "    for i in saved_list:\n",
    "        if \"species_count\" in i:\n",
    "            species_count_list.append(i)\n",
    "    for j in species_count_list:\n",
    "        spec_species_count = read_json(j)\n",
    "        spec_species_count = json.loads(spec_species_count)\n",
    "        thin_trajectory, average = get_thin_trajectory(spec_species_count, discard_length, thin_by)\n",
    "        # Need to automate key generation\n",
    "        key = '_'.join(j.split(\"/\")[-1].split(\"_\")[:2])\n",
    "        traj_data[key] = {}\n",
    "        traj_data[key]['trajectory'] = thin_trajectory\n",
    "        traj_data[key]['average'] = average\n",
    "    \n",
    "    return traj_data"
   ]
  },
  {
   "cell_type": "markdown",
   "metadata": {},
   "source": [
    "## 1. Load data from cluster expansion fitting & Generate Ensemble\n",
    "Note: For the details of fitting, refer to groupCE_CaNaVP"
   ]
  },
  {
   "cell_type": "code",
   "execution_count": 5,
   "metadata": {},
   "outputs": [
    {
     "name": "stdout",
     "output_type": "stream",
     "text": [
      "103 Non-zero ECIS over 629 cluster ECIS\n"
     ]
    }
   ],
   "source": [
    "work = load_work('/global/scratch/users/yychoi94/CaNaVP/data/final_data/ce/final_canvp_ce.mson')\n",
    "expansion = work['ClusterExpansion']\n",
    "wrangler = work['StructureWrangler']\n",
    "print(\"{} Non-zero ECIS over {} cluster ECIS\".format(np.count_nonzero(expansion.coefs), len(expansion.coefs)))"
   ]
  },
  {
   "cell_type": "markdown",
   "metadata": {},
   "source": [
    "## 2. Set Basic variables. "
   ]
  },
  {
   "cell_type": "code",
   "execution_count": 6,
   "metadata": {},
   "outputs": [],
   "source": [
    "# Atoms.\n",
    "na = Species('Na', 1)\n",
    "ca = Species('Ca', 2)\n",
    "v3 = Species('V', 3)\n",
    "v4 = Species('V', 4)\n",
    "v5 = Species('V', 5)\n",
    "vac = Vacancy()\n",
    "\n",
    "# Supercell matrix\n",
    "sc_matrix = np.array([[5, 0, 0],\n",
    "                      [0, 5, 0],\n",
    "                      [0, 0, 6]])\n",
    "\n",
    "# Relative chemical potentials\n",
    "chemical_potentials = {'Na+':0, 'Ca2+': 0, 'Vacancy': 0,\n",
    "                       'V3+': 0, 'V4+': 0, 'V5+': 0}"
   ]
  },
  {
   "cell_type": "markdown",
   "metadata": {},
   "source": [
    "## 3. Load ensemble."
   ]
  },
  {
   "cell_type": "code",
   "execution_count": 8,
   "metadata": {},
   "outputs": [],
   "source": [
    "ensemble_path = '/global/home/users/yychoi94/notebooks/final_canvp_ensemble_1201.mson'\n",
    "ensemble = loadfn(ensemble_path)\n",
    "# dumpfn(ensemble, ensemble_path)"
   ]
  },
  {
   "cell_type": "code",
   "execution_count": 9,
   "metadata": {},
   "outputs": [
    {
     "name": "stdout",
     "output_type": "stream",
     "text": [
      "(Species O2-,)\n",
      "(Species Na+, Species Ca2+, Vacancy vacA0+)\n",
      "(Species V3+, Species V4+, Species V5+)\n",
      "(Species P5+,)\n"
     ]
    }
   ],
   "source": [
    "for sublattice in ensemble.sublattices:\n",
    "    print(sublattice.species)"
   ]
  },
  {
   "cell_type": "code",
   "execution_count": 10,
   "metadata": {},
   "outputs": [],
   "source": [
    "# Specific flip table based on saved ensemble.\n",
    "flip_table = np.array([[0,  -1,  0,  1,  -1,  1,  0,  0],\n",
    "                       [0,  -1,  0,  1,  0,  -1,  1,  0],\n",
    "                       [0,  0,  -1,  1,  -1,  0,  1,  0],\n",
    "                       [0,  -2,  1,  1,  0,  0,  0,  0]])"
   ]
  },
  {
   "cell_type": "code",
   "execution_count": 11,
   "metadata": {},
   "outputs": [
    {
     "name": "stderr",
     "output_type": "stream",
     "text": [
      "/global/home/users/yychoi94/codes/smol/smol/moca/sampler/mcusher.py:358: UserWarning: Current occupancy violates compspace constraints! Are you initializing trace?\n",
      "  warnings.warn(\"Current occupancy violates compspace constraints! \"\n"
     ]
    },
    {
     "name": "stdout",
     "output_type": "stream",
     "text": [
      "Sampling information: {'kernel': 'Metropolis', 'step': 'tableflip', 'chemical_potentials': {Species Na+: 0, Species Ca2+: 0, Vacancy vacA0+: 0, Species V3+: 0, Species V4+: 0, Species V5+: 0}, 'seeds': [156778177983409017164721517047867786276]}\n",
      "0.798330545425415s for initialization.\n"
     ]
    }
   ],
   "source": [
    "start = time.time()\n",
    "sampler = Sampler.from_ensemble(ensemble, step_type=\"tableflip\",\n",
    "                                temperature=2000, optimize_basis=False, flip_table=flip_table)\n",
    "\n",
    "print(f\"Sampling information: {sampler.samples.metadata}\")\n",
    "end = time.time()\n",
    "print(f\"{end-start}s for initialization.\")"
   ]
  },
  {
   "cell_type": "markdown",
   "metadata": {},
   "source": [
    "## 4. Retrieve trajectory"
   ]
  },
  {
   "cell_type": "code",
   "execution_count": 30,
   "metadata": {},
   "outputs": [],
   "source": [
    "set_rc_params()"
   ]
  },
  {
   "cell_type": "code",
   "execution_count": 21,
   "metadata": {},
   "outputs": [],
   "source": [
    "save_dir = \"/global/scratch/users/yychoi94/CaNaVP_gcMC/300K_556_30_6020/data\"\n",
    "saved_list = glob(save_dir + \"/*\")\n",
    "tot_cation_site = round(np.linalg.det(ensemble.processor.supercell_matrix)) * 8"
   ]
  },
  {
   "cell_type": "code",
   "execution_count": 22,
   "metadata": {},
   "outputs": [],
   "source": [
    "test_traj_data = get_all_trajectories(save_dir, 50000, 5000)"
   ]
  },
  {
   "cell_type": "code",
   "execution_count": 45,
   "metadata": {},
   "outputs": [],
   "source": [
    "def get_vc_data(traj_data, cation='Na'):\n",
    "    \n",
    "    # Option: \n",
    "    voltages, cations = [], []\n",
    "    for key in traj_data:\n",
    "        if cation == 'Na':\n",
    "            chempo = float(key.split('_')[-1])\n",
    "            voltage = (-1.3122 - chempo)\n",
    "            cations.append(test_traj_data[key]['average'][1])\n",
    "        elif cation == 'Ca':\n",
    "            chempo = float(key.split('_')[0])\n",
    "            voltage = (-1.9985 - chempo) / 2\n",
    "            cations.append(test_traj_data[key]['average'][0])\n",
    "        voltages.append(voltage)\n",
    "    sorted_voltages = [x for _, x in sorted(zip(cations, voltages))]\n",
    "    cations.sort()\n",
    "    \n",
    "    return cations, sorted_voltages"
   ]
  },
  {
   "cell_type": "code",
   "execution_count": 46,
   "metadata": {},
   "outputs": [],
   "source": [
    "cations, sorted_voltages = get_vc_data(test_traj_data, cation='Na')"
   ]
  },
  {
   "cell_type": "code",
   "execution_count": 74,
   "metadata": {},
   "outputs": [
    {
     "name": "stdout",
     "output_type": "stream",
     "text": [
      "33\n",
      "34\n",
      "35\n",
      "36\n",
      "37\n",
      "38\n"
     ]
    }
   ],
   "source": [
    "for i, j in enumerate(cations):\n",
    "    if j == 1.0:\n",
    "        print(i)"
   ]
  },
  {
   "cell_type": "code",
   "execution_count": 75,
   "metadata": {},
   "outputs": [
    {
     "data": {
      "text/plain": [
       "-4.72"
      ]
     },
     "execution_count": 75,
     "metadata": {},
     "output_type": "execute_result"
    }
   ],
   "source": [
    "- sorted_voltages[38] -1.3122"
   ]
  },
  {
   "cell_type": "code",
   "execution_count": 73,
   "metadata": {},
   "outputs": [
    {
     "data": {
      "text/plain": [
       "-3.2"
      ]
     },
     "execution_count": 73,
     "metadata": {},
     "output_type": "execute_result"
    }
   ],
   "source": [
    "- sorted_voltages[99] -1.3122"
   ]
  },
  {
   "cell_type": "markdown",
   "metadata": {},
   "source": [
    "## Retrieve Structure"
   ]
  },
  {
   "cell_type": "code",
   "execution_count": 81,
   "metadata": {},
   "outputs": [],
   "source": [
    "occu_dir = '/global/scratch/users/yychoi94/CaNaVP_gcMC/300K_556_30_6020/data/-30.0_-4.72_occupancy.npz'"
   ]
  },
  {
   "cell_type": "code",
   "execution_count": 82,
   "metadata": {},
   "outputs": [],
   "source": [
    "occupancies = np.load(occu_dir)['o']"
   ]
  },
  {
   "cell_type": "code",
   "execution_count": 83,
   "metadata": {},
   "outputs": [],
   "source": [
    "final_structure = ensemble.processor.structure_from_occupancy(occupancies[-1])"
   ]
  },
  {
   "cell_type": "code",
   "execution_count": 84,
   "metadata": {},
   "outputs": [],
   "source": [
    "final_structure.sort()"
   ]
  },
  {
   "cell_type": "code",
   "execution_count": 85,
   "metadata": {},
   "outputs": [],
   "source": [
    "final_structure.to('POSCAR', './300_Na1_POSCAR')\n",
    "np.save('./300_Na1_occu.npy', occupancies[-1])"
   ]
  },
  {
   "cell_type": "code",
   "execution_count": null,
   "metadata": {},
   "outputs": [],
   "source": []
  }
 ],
 "metadata": {
  "kernelspec": {
   "display_name": "cn-sgmc",
   "language": "python",
   "name": "cn-sgmc"
  },
  "language_info": {
   "codemirror_mode": {
    "name": "ipython",
    "version": 3
   },
   "file_extension": ".py",
   "mimetype": "text/x-python",
   "name": "python",
   "nbconvert_exporter": "python",
   "pygments_lexer": "ipython3",
   "version": "3.9.12"
  }
 },
 "nbformat": 4,
 "nbformat_minor": 2
}
